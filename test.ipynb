{
 "cells": [
  {
   "cell_type": "code",
   "execution_count": 8,
   "metadata": {},
   "outputs": [],
   "source": [
    "import numpy as np\n",
    "import matplotlib.pyplot as plt\n",
    "from sklearn.gaussian_process import GaussianProcessRegressor\n",
    "from sklearn.gaussian_process.kernels import Matern, ConstantKernel as C\n",
    "from mpl_toolkits.mplot3d import Axes3D\n",
    "import torch\n",
    "import gpytorch\n",
    "from math import pi\n",
    "\n",
    "import matplotlib.pyplot as plt\n",
    "from util import *\n",
    "\n",
    "plt.style.use(\"bmh\")\n",
    "plt.rcParams[\"image.cmap\"] = \"Blues\"\n",
    "\n",
    "from tqdm.notebook import tqdm\n",
    "\n",
    "# train_x = torch.tensor([[60,500],[60,1000],[60,1500],[60,2000],[60,2500],\n",
    "#                         [100,500],[100,1000],[100,1500],[100,2000],[100,2500],\n",
    "#                         [140,500],[140,1000],[140,1500],[140,2000],[140,2500],\n",
    "#                         [180,500],[180,1000],[180,1500],[180,2000],[180,2500]], dtype=torch.double)\n",
    "\n",
    "# train_y = torch.tensor([0,2,2,1,2,2,5,5,4,4,6,5,5,8,3,3,5,4,3,6], dtype=torch.double)\n",
    "\n",
    "\n",
    "# x1_range = torch.linspace(0, 200, 1000)\n",
    "# x2_range = torch.linspace(0, 3000, 3000)\n",
    "# x1, x2 = torch.meshgrid(x1_range, x2_range, indexing=\"ij\")\n",
    "# X_test = torch.vstack((x1.flatten(), x2.flatten())).transpose(-1, -2)\n",
    "\n",
    "#-------------------------------------------------------------------------------\n",
    "\n",
    "# train_x = torch.rand(size=(20, 2),dtype=torch.double) * 6 - 3\n",
    "\n",
    "# train_y = torch.tensor([0,2,2,1,2,2,5,5,4,4,6,5,5,8,3,3,5,4,3,6], dtype=torch.double)\n",
    "\n",
    "\n",
    "# x1_range = torch.linspace(-4, 4, 101)\n",
    "# x2_range = torch.linspace(-5, 5, 101)\n",
    "# x1, x2 = torch.meshgrid(x1_range, x2_range, indexing=\"ij\")\n",
    "# X_test = torch.vstack((x1.flatten(), x2.flatten())).transpose(-1, -2)\n"
   ]
  },
  {
   "cell_type": "code",
   "execution_count": 9,
   "metadata": {},
   "outputs": [],
   "source": [
    "train_x = torch.tensor([[0.6,5],[0.6,10],[0.6,15],[0.6,20],[0.6,25],\n",
    "                        [1,5],[1,10],[1,15],[1,20],[1,25],\n",
    "                        [1.4,5],[1.4,10],[1.4,15],[1.4,20],[1.4,25],\n",
    "                        [1.8,5],[1.8,10],[1.8,15],[1.8,20],[1.8,25]], dtype=torch.double)\n",
    "\n",
    "train_y = torch.tensor([0,2,2,1,2,2,5,5,4,4,6,5,5,8,3,3,5,4,3,6], dtype=torch.double)\n",
    "\n",
    "\n",
    "x1_range = torch.linspace(0, 2, 1000)\n",
    "x2_range = torch.linspace(0, 30, 3000)\n",
    "x1, x2 = torch.meshgrid(x1_range, x2_range, indexing=\"ij\")\n",
    "X_test = torch.vstack((x1.flatten(), x2.flatten())).transpose(-1, -2)"
   ]
  },
  {
   "cell_type": "code",
   "execution_count": 10,
   "metadata": {},
   "outputs": [
    {
     "data": {
      "text/plain": [
       "tensor([[  60.,  500.],\n",
       "        [  60., 1000.],\n",
       "        [  60., 1500.],\n",
       "        [  60., 2000.],\n",
       "        [  60., 2500.],\n",
       "        [ 100.,  500.],\n",
       "        [ 100., 1000.],\n",
       "        [ 100., 1500.],\n",
       "        [ 100., 2000.],\n",
       "        [ 100., 2500.],\n",
       "        [ 140.,  500.],\n",
       "        [ 140., 1000.],\n",
       "        [ 140., 1500.],\n",
       "        [ 140., 2000.],\n",
       "        [ 140., 2500.],\n",
       "        [ 180.,  500.],\n",
       "        [ 180., 1000.],\n",
       "        [ 180., 1500.],\n",
       "        [ 180., 2000.],\n",
       "        [ 180., 2500.]], dtype=torch.float64)"
      ]
     },
     "execution_count": 10,
     "metadata": {},
     "output_type": "execute_result"
    }
   ],
   "source": [
    "train_x"
   ]
  },
  {
   "cell_type": "code",
   "execution_count": 11,
   "metadata": {},
   "outputs": [],
   "source": [
    "class ARDGPModel(gpytorch.models.ExactGP):\n",
    "    def __init__(self, train_x, train_y, likelihood):\n",
    "        super().__init__(train_x, train_y, likelihood)\n",
    "        self.mean_module = gpytorch.means.ZeroMean()\n",
    "        self.covar_module = gpytorch.kernels.ScaleKernel(\n",
    "            gpytorch.kernels.RBFKernel(ard_num_dims=2)\n",
    "        )\n",
    "\n",
    "    def forward(self, x):\n",
    "        mean_x = self.mean_module(x)\n",
    "        covar_x = self.covar_module(x)\n",
    "        return gpytorch.distributions.MultivariateNormal(mean_x, covar_x)\n",
    "    \n",
    "\n",
    "# declare the GP\n",
    "noise = 1e-4\n",
    "\n",
    "likelihood = gpytorch.likelihoods.GaussianLikelihood()\n",
    "model = ARDGPModel(train_x, train_y, likelihood)"
   ]
  },
  {
   "cell_type": "code",
   "execution_count": 12,
   "metadata": {},
   "outputs": [],
   "source": [
    "# fix the hyperparameters\n",
    "model.likelihood.noise = noise\n",
    "\n",
    "# train the hyperparameter (the constant)\n",
    "optimizer = torch.optim.Adam(model.parameters(), lr=0.01)\n",
    "mll = gpytorch.mlls.ExactMarginalLogLikelihood(likelihood, model)"
   ]
  },
  {
   "cell_type": "code",
   "execution_count": 13,
   "metadata": {},
   "outputs": [
    {
     "data": {
      "application/vnd.jupyter.widget-view+json": {
       "model_id": "3ccbbc9f98654845950084d2957ad47c",
       "version_major": 2,
       "version_minor": 0
      },
      "text/plain": [
       "  0%|          | 0/500 [00:00<?, ?it/s]"
      ]
     },
     "metadata": {},
     "output_type": "display_data"
    },
    {
     "data": {
      "text/plain": [
       "GaussianLikelihood(\n",
       "  (noise_covar): HomoskedasticNoise(\n",
       "    (raw_noise_constraint): GreaterThan(1.000E-04)\n",
       "  )\n",
       ")"
      ]
     },
     "execution_count": 13,
     "metadata": {},
     "output_type": "execute_result"
    }
   ],
   "source": [
    "model.train()\n",
    "likelihood.train()\n",
    "\n",
    "losses = []\n",
    "x_lengthscales = []\n",
    "y_lengthscales = []\n",
    "outputscales = []\n",
    "for i in tqdm(range(500)):\n",
    "    optimizer.zero_grad()\n",
    "\n",
    "    output = model(train_x)\n",
    "    loss = -mll(output, train_y)\n",
    "\n",
    "    loss.backward()\n",
    "\n",
    "    losses.append(loss.item())\n",
    "    x_lengthscales.append(model.covar_module.base_kernel.lengthscale[0, 0].item())\n",
    "    y_lengthscales.append(model.covar_module.base_kernel.lengthscale[0, 1].item())\n",
    "    outputscales.append(model.covar_module.outputscale.item())\n",
    "\n",
    "    optimizer.step()\n",
    "\n",
    "model.eval()\n",
    "likelihood.eval()"
   ]
  },
  {
   "cell_type": "code",
   "execution_count": 14,
   "metadata": {},
   "outputs": [
    {
     "data": {
      "image/png": "[encoded data removed]",
      "text/plain": [
       "<Figure size 800x200 with 3 Axes>"
      ]
     },
     "metadata": {},
     "output_type": "display_data"
    }
   ],
   "source": [
    "fig, ax = plt.subplots(1, 3, figsize=(8, 2))\n",
    "\n",
    "ax[0].plot(losses)\n",
    "ax[0].set_ylabel(\"negative marginal log likelihood\")\n",
    "\n",
    "ax[1].plot(x_lengthscales)\n",
    "ax[1].set_ylabel(r\"$x$-axis lengthscale\")\n",
    "\n",
    "ax[2].plot(y_lengthscales)\n",
    "ax[2].set_ylabel(r\"$y$-axis lengthscale\")\n",
    "\n",
    "plt.tight_layout();"
   ]
  },
  {
   "cell_type": "code",
   "execution_count": null,
   "metadata": {},
   "outputs": [],
   "source": []
  }
 ],
 "metadata": {
  "kernelspec": {
   "display_name": "Python 3",
   "language": "python",
   "name": "python3"
  },
  "language_info": {
   "codemirror_mode": {
    "name": "ipython",
    "version": 3
   },
   "file_extension": ".py",
   "mimetype": "text/x-python",
   "name": "python",
   "nbconvert_exporter": "python",
   "pygments_lexer": "ipython3",
   "version": "3.8.20"
  }
 },
 "nbformat": 4,
 "nbformat_minor": 2
}
